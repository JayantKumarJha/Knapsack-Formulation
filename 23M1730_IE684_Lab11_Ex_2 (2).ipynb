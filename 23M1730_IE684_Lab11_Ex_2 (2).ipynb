{
  "nbformat": 4,
  "nbformat_minor": 0,
  "metadata": {
    "colab": {
      "provenance": []
    },
    "kernelspec": {
      "name": "python3",
      "display_name": "Python 3"
    },
    "language_info": {
      "name": "python"
    }
  },
  "cells": [
    {
      "cell_type": "markdown",
      "source": [
        "**This notebook contains Exercise-2 of Lab 11**"
      ],
      "metadata": {
        "id": "TW3TUiAXExL5"
      }
    },
    {
      "cell_type": "markdown",
      "source": [
        "**Jayant kumar jha(23M1730)**"
      ],
      "metadata": {
        "id": "mPjBFUymE4vA"
      }
    },
    {
      "cell_type": "markdown",
      "source": [
        "# **Q.1**"
      ],
      "metadata": {
        "id": "YXJrkg11FBmW"
      }
    },
    {
      "cell_type": "markdown",
      "source": [
        "**Since we have to minimize the total cost of the production of Boxes with fulfilling the demands of each boxes we will formulate our Objective function as:**\n"
      ],
      "metadata": {
        "id": "zo8qOBo3FFa1"
      }
    },
    {
      "cell_type": "markdown",
      "source": [
        "**Let $X_i$ denote the number of boxes of type $i$ produced. Then,**\n",
        "\n",
        "$$\n",
        "Y_i =\n",
        "\\begin{cases}\n",
        "0 & \\text{if type } i \\text{ box is not produced,} \\\\\n",
        "1 & \\text{if type } i \\text{ box is produced.}\n",
        "\\end{cases}\n",
        "$$\n"
      ],
      "metadata": {
        "id": "nRe-iKVtGpC7"
      }
    },
    {
      "cell_type": "markdown",
      "source": [
        "$$\n",
        "\\text{Minimize} \\quad 100 \\times (0.15 \\cdot X_1 + 0.25 \\cdot X_2 + 0.35 \\cdot X_3 + 0.5 \\cdot X_4 + 0.6 \\cdot X_5 + 0.75 \\cdot X_6) + 1500 \\times (Y_1 + Y_2 + Y_3 + Y_4 + Y_5 + Y_6)\n",
        "$$\n"
      ],
      "metadata": {
        "id": "XzGS86qaGhid"
      }
    },
    {
      "cell_type": "markdown",
      "source": [
        "**The constraints for the problem are as follows:**\n",
        "\n",
        "\\begin{align*}\n",
        "& X_1 + X_2 + X_3 + X_4 + X_5 + X_6 \\geq 2280, & \\text{(Demand for Box 1)} \\\\\n",
        "& X_2 + X_3 + X_4 + X_5 + X_6 \\geq 1980, & \\text{(Demand for Box 2)} \\\\\n",
        "& X_3 + X_4 + X_5 + X_6 \\geq 1530, & \\text{(Demand for Box 3)} \\\\\n",
        "& X_4 + X_5 + X_6 \\geq 1450, & \\text{(Demand for Box 4)} \\\\\n",
        "& X_5 + X_6 \\geq 950, & \\text{(Demand for Box 5)} \\\\\n",
        "& X_6 \\geq 800, & \\text{(Demand for Box 6)} \\\\\n",
        "& X_1 + X_2 + X_3 + X_4 + X_5 + X_6 \\geq 2280. & \\text{(Total Demand)}\n",
        "\\end{align*}\n"
      ],
      "metadata": {
        "id": "uRdbrPf_HgZC"
      }
    },
    {
      "cell_type": "code",
      "source": [
        "!pip install pulp"
      ],
      "metadata": {
        "colab": {
          "base_uri": "https://localhost:8080/"
        },
        "id": "WdlgRk3qoIyr",
        "outputId": "3433fe2b-b0aa-44a1-e1b0-618d49d1382c"
      },
      "execution_count": 1,
      "outputs": [
        {
          "output_type": "stream",
          "name": "stdout",
          "text": [
            "Collecting pulp\n",
            "  Downloading PuLP-2.8.0-py3-none-any.whl (17.7 MB)\n",
            "\u001b[2K     \u001b[90m━━━━━━━━━━━━━━━━━━━━━━━━━━━━━━━━━━━━━━━━\u001b[0m \u001b[32m17.7/17.7 MB\u001b[0m \u001b[31m43.0 MB/s\u001b[0m eta \u001b[36m0:00:00\u001b[0m\n",
            "\u001b[?25hInstalling collected packages: pulp\n",
            "Successfully installed pulp-2.8.0\n"
          ]
        }
      ]
    },
    {
      "cell_type": "code",
      "source": [
        "import pulp\n",
        "\n",
        "# Define the problem\n",
        "problem = pulp.LpProblem(\"Minimize_Box_Costs\", pulp.LpMinimize)\n",
        "\n",
        "# Decision Variables\n",
        "X = pulp.LpVariable.dicts(\"X\", range(1, 7), lowBound=0, cat='Continuous')\n",
        "Y = pulp.LpVariable.dicts(\"Y\", range(1, 7), cat='Binary')\n",
        "\n",
        "# Objective Function\n",
        "problem += 100 * (0.15 * X[1] + 0.25 * X[2] + 0.35 * X[3] + 0.5 * X[4] + 0.6 * X[5] + 0.75 * X[6]) \\\n",
        "           + 1500 * (Y[1] + Y[2] + Y[3] + Y[4] + Y[5] + Y[6]), \"Total Cost\"\n",
        "\n",
        "# Constraints\n",
        "problem += X[1] + X[2] + X[3] + X[4] + X[5] + X[6] >= 2280, \"Demand for Box 1\"\n",
        "problem += X[2] + X[3] + X[4] + X[5] + X[6] >=1980, \"Demand for Box 2\"\n",
        "problem += X[3] + X[4] + X[5] + X[6] >= 1530, \"Demand for Box 3\"\n",
        "problem += X[4] + X[5] + X[6] >= 1450, \"Demand for Box 4\"\n",
        "problem += X[5] + X[6] >= 950, \"Demand for Box 5\"\n",
        "problem += X[6] >= 800, \"Demand for Box 6\"\n",
        "problem += X[1] + X[2] + X[3] + X[4] + X[5] + X[6] >= 2280, \"Total Demand\"\n",
        "\n",
        "# Linking X_i with Y_i\n",
        "M = 1000  # Large number for linking\n",
        "for i in range(1, 7):\n",
        "    problem += X[i] <= M * Y[i], f\"Linking_{i}\"\n",
        "\n",
        "# Solve the problem\n",
        "problem.solve()\n",
        "\n",
        "# Output the results\n",
        "for i in range(1, 7):\n",
        "    print(f\"X{i}: {X[i].varValue}, Y{i}: {Y[i].varValue}\")\n",
        "print(f\"Total Cost: {pulp.value(problem.objective)}\")\n"
      ],
      "metadata": {
        "colab": {
          "base_uri": "https://localhost:8080/"
        },
        "id": "KH8YLNb5cRwD",
        "outputId": "3c57f3a0-94ad-4870-a116-6a0c55d57621"
      },
      "execution_count": 2,
      "outputs": [
        {
          "output_type": "stream",
          "name": "stdout",
          "text": [
            "X1: 300.0, Y1: 1.0\n",
            "X2: 450.0, Y2: 1.0\n",
            "X3: 0.0, Y3: 0.0\n",
            "X4: 580.0, Y4: 1.0\n",
            "X5: 150.0, Y5: 1.0\n",
            "X6: 800.0, Y6: 1.0\n",
            "Total Cost: 121250.0\n"
          ]
        }
      ]
    },
    {
      "cell_type": "markdown",
      "source": [
        "# **Q.2**"
      ],
      "metadata": {
        "id": "gN4B0C9bXjl_"
      }
    },
    {
      "cell_type": "markdown",
      "source": [],
      "metadata": {
        "id": "ltgs74rOXmdl"
      }
    },
    {
      "cell_type": "code",
      "source": [],
      "metadata": {
        "id": "AfpZG0aqXoNg"
      },
      "execution_count": null,
      "outputs": []
    },
    {
      "cell_type": "code",
      "source": [
        "import sys\n",
        "\n",
        "def dijkstra(graph, source):\n",
        "    vertices = len(graph)\n",
        "    dist = [sys.maxsize] * vertices\n",
        "    dist[source] = 0\n",
        "    visited = [False] * vertices\n",
        "\n",
        "    for _ in range(vertices):\n",
        "        min_dist = sys.maxsize\n",
        "        min_dist_index = 0\n",
        "\n",
        "        for v in range(vertices):\n",
        "            if dist[v] < min_dist and not visited[v]:\n",
        "                min_dist = dist[v]\n",
        "                min_dist_index = v\n",
        "\n",
        "        visited[min_dist_index] = True\n",
        "        for v in range(vertices):\n",
        "            if graph[min_dist_index][v] > 0 and not visited[v] and \\\n",
        "                    dist[v] > dist[min_dist_index] + graph[min_dist_index][v]:\n",
        "                dist[v] = dist[min_dist_index] + graph[min_dist_index][v]\n",
        "\n",
        "    return dist"
      ],
      "metadata": {
        "id": "MMQma7_yb_SS"
      },
      "execution_count": 4,
      "outputs": []
    },
    {
      "cell_type": "code",
      "source": [
        "import sys\n",
        "\n",
        "graph_array = [\n",
        "    [0, 300*15+1500, (300+450)*25+1500, (300+450+80)*35+1500, (300+450+80+500)*50+1500, (300+450+80+500+150)*60+1500, (300+450+80+500+150+800)*75+1500],\n",
        "    [sys.maxsize, 0, 450*25+1500, (450+80)*35+1500, (450+80+500)*50+1500, (450+80+500+150)*60+1500,(450+80+500+150+800)*75+1500],\n",
        "    [sys.maxsize, sys.maxsize, 0,  80*35+1500, (80+500)*50+1500, (80+500+150)*60+1500, (80+500+150+800)*75+1500],\n",
        "    [sys.maxsize, sys.maxsize, sys.maxsize, 0, 500*50+1500, (500+150)*60+1500, (500+150+800)*75+1500],\n",
        "    [sys.maxsize, sys.maxsize, sys.maxsize,  sys.maxsize, 0,  150*60+1500, (150+800)*75+1500],\n",
        "    [sys.maxsize, sys.maxsize,  sys.maxsize,  sys.maxsize,  sys.maxsize, 0,  800*75+1500],\n",
        "    [sys.maxsize, sys.maxsize, sys.maxsize, sys.maxsize, sys.maxsize,   sys.maxsize,  0],\n",
        "]\n",
        "\n",
        "source_vertex = 0\n",
        "shortest_distances = dijkstra(graph_array, source_vertex)\n",
        "print(f'The optimal cost is :\\n{[x for x in shortest_distances][-1]}')"
      ],
      "metadata": {
        "id": "QN9vrCPHcBMc",
        "colab": {
          "base_uri": "https://localhost:8080/"
        },
        "outputId": "a6b8b1c2-ffea-4222-d1d2-5bc88f75ef28"
      },
      "execution_count": 5,
      "outputs": [
        {
          "output_type": "stream",
          "name": "stdout",
          "text": [
            "The optimal cost is :\n",
            "121250\n"
          ]
        }
      ]
    },
    {
      "cell_type": "code",
      "source": [
        "print(graph_array)\n",
        "print(shortest_distances)\n",
        "differences = [shortest_distances[i+1] - shortest_distances[i] for i in range(len(shortest_distances)-1)]\n",
        "differences"
      ],
      "metadata": {
        "colab": {
          "base_uri": "https://localhost:8080/"
        },
        "id": "fR15x7t7wsrr",
        "outputId": "908687f1-564d-4bbe-df75-40ff7dd17238"
      },
      "execution_count": 6,
      "outputs": [
        {
          "output_type": "stream",
          "name": "stdout",
          "text": [
            "[[0, 6000, 20250, 30550, 68000, 90300, 172500], [9223372036854775807, 0, 12750, 20050, 53000, 72300, 150000], [9223372036854775807, 9223372036854775807, 0, 4300, 30500, 45300, 116250], [9223372036854775807, 9223372036854775807, 9223372036854775807, 0, 26500, 40500, 110250], [9223372036854775807, 9223372036854775807, 9223372036854775807, 9223372036854775807, 0, 10500, 72750], [9223372036854775807, 9223372036854775807, 9223372036854775807, 9223372036854775807, 9223372036854775807, 0, 61500], [9223372036854775807, 9223372036854775807, 9223372036854775807, 9223372036854775807, 9223372036854775807, 9223372036854775807, 0]]\n",
            "[0, 6000, 18750, 23050, 49250, 59750, 121250]\n"
          ]
        },
        {
          "output_type": "execute_result",
          "data": {
            "text/plain": [
              "[6000, 12750, 4300, 26200, 10500, 61500]"
            ]
          },
          "metadata": {},
          "execution_count": 6
        }
      ]
    },
    {
      "cell_type": "code",
      "source": [
        "import networkx as nx\n",
        "import matplotlib.pyplot as plt\n",
        "\n",
        "# Define graph nodes and edges\n",
        "nodes = ['Box0', 'Box1', 'Box2', 'Box3', 'Box4', 'Box5', 'Box6']\n",
        "edges = [\n",
        "    ('Box0', 'Box1', 300*15+1500), ('Box0', 'Box2', (300+450)*25+1500), ('Box0', 'Box3', (300+450+80)*35+1500),\n",
        "    ('Box0', 'Box4', (300+450+80+500)*50+1500), ('Box0', 'Box5', (300+450+80+500+150)*60+1500), ('Box0', 'Box6', (300+450+80+500+150+800)*75+1500),\n",
        "    ('Box1', 'Box2', 450*25+1500), ('Box1', 'Box3', (450+80)*35+1500), ('Box1', 'Box4', (450+80+500)*50+1500),\n",
        "    ('Box1', 'Box5', (450+80+500+150)*60+1500), ('Box1', 'Box6', (450+80+500+150+800)*75+1500),\n",
        "    ('Box2', 'Box3', 80*35+1500), ('Box2', 'Box4', (80+500)*50+1500), ('Box2', 'Box5', (80+500+150)*60+1500),\n",
        "    ('Box2', 'Box6', (80+500+150+800)*75+1500),\n",
        "    ('Box3', 'Box4', 500*50+1500), ('Box3', 'Box5', (500+150)*60+1500), ('Box3', 'Box6', (500+150+800)*75+1500),\n",
        "    ('Box4', 'Box5', 150*60+1500), ('Box4', 'Box6', (150+800)*75+1500),\n",
        "    ('Box5', 'Box6', 800*75+1500)\n",
        "]\n",
        "\n",
        "# Create directed graph\n",
        "G = nx.DiGraph()\n",
        "\n",
        "# Add nodes and edges to the graph\n",
        "G.add_nodes_from(nodes)\n",
        "G.add_weighted_edges_from(edges)\n",
        "\n",
        "# Find shortest paths from each node using Dijkstra's algorithm\n",
        "shortest_paths = {}\n",
        "for node in nodes:\n",
        "    shortest_paths[node] = nx.single_source_dijkstra_path(G, node)\n",
        "\n",
        "# Create a new graph to plot shortest paths only\n",
        "G_shortest_paths = nx.DiGraph()\n",
        "\n",
        "# Add shortest paths to the new graph\n",
        "for node in shortest_paths:\n",
        "    for destination in shortest_paths[node]:\n",
        "        path = shortest_paths[node][destination]\n",
        "        path_edges = [(path[i], path[i+1]) for i in range(len(path)-1)]\n",
        "        G_shortest_paths.add_edges_from(path_edges)\n",
        "\n",
        "# Create graph layout\n",
        "pos = nx.spring_layout(G_shortest_paths)\n",
        "\n",
        "# Draw graph\n",
        "nx.draw(G_shortest_paths, pos, with_labels=True, node_size=1000, node_color='skyblue', font_size=10, font_weight='bold', edge_color='red', arrows=True)\n",
        "\n",
        "# Add edge labels\n",
        "edge_labels = {(edge[0], edge[1]): G[edge[0]][edge[1]]['weight'] for edge in G_shortest_paths.edges()}\n",
        "nx.draw_networkx_edge_labels(G_shortest_paths, pos, edge_labels=edge_labels)\n",
        "\n",
        "# Show plot\n",
        "plt.title('Shortest Paths from Each Node')\n",
        "plt.show()\n",
        "\n"
      ],
      "metadata": {
        "colab": {
          "base_uri": "https://localhost:8080/",
          "height": 539
        },
        "id": "1ms4Eu2E1dWo",
        "outputId": "cc0aedcb-e4bc-4957-a182-81a3f5233fbe"
      },
      "execution_count": 8,
      "outputs": [
        {
          "output_type": "display_data",
          "data": {
            "text/plain": [
              "<Figure size 640x480 with 1 Axes>"
            ],
            "image/png": "[encoded data removed]"
          },
          "metadata": {}
        }
      ]
    },
    {
      "cell_type": "markdown",
      "source": [
        "So the number of each box types to be made are:\n",
        "box1 -> 300\n",
        "\n",
        "box2 -> 450\n",
        "\n",
        "box3 -> 0  (The differences array contains 26200 which does not match with the elemet of matrix that means there is another shoet way to go forward except 3)\n",
        "\n",
        "box4 -> 580\n",
        "\n",
        "box5 -> 150\n",
        "\n",
        "box6 -> 800"
      ],
      "metadata": {
        "id": "vRbqCFkNthb4"
      }
    },
    {
      "cell_type": "markdown",
      "source": [
        "# **Q.3**"
      ],
      "metadata": {
        "id": "sBBO_xfVISQB"
      }
    },
    {
      "cell_type": "markdown",
      "source": [
        "**The objective function for the profit maximization problem for the given space can be written as:**"
      ],
      "metadata": {
        "id": "ZEc-tQMcKC-l"
      }
    },
    {
      "cell_type": "markdown",
      "source": [
        "**The objective function, representing the total cost to be minimized, is given by:**\n",
        "\n",
        "$$\n",
        "\\text{Minimize} \\quad \\left( (300 - 0.15 \\times 100 \\times X_1) + (300 - 0.25 \\times 100) \\times X_2 + (350 - 0.35 \\times 100) \\times X_3 + (500 - 0.5 \\times 100) \\times X_4 + (600 - 0.6 \\times 100) \\times X_5 + (800 - 0.75 \\times 100) \\times X_6 \\right) - 1500 \\times (Y_1 + Y_2 + Y_3 + Y_4 + Y_5 + Y_6)**\n",
        "$$\n"
      ],
      "metadata": {
        "id": "m7knujHYKaZE"
      }
    },
    {
      "cell_type": "markdown",
      "source": [
        "**The constraints for the problem are defined as follows:**\n",
        "\n",
        "**\\begin{align*}\n",
        "& X_1 + X_2 + X_3 + X_4 + X_5 + X_6 \\leq 2280, & \\text{(Demand for Box 1)} \\\\\n",
        "& X_2 + X_3 + X_4 + X_5 + X_6 \\leq 1980, & \\text{(Demand for Box 2)} \\\\\n",
        "& X_3 + X_4 + X_5 + X_6 \\leq 1530, & \\text{(Demand for Box 3)} \\\\\n",
        "& X_4 + X_5 + X_6 \\leq 1450, & \\text{(Demand for Box 4)} \\\\\n",
        "& X_5 + X_6 \\leq 950, & \\text{(Demand for Box 5)} \\\\\n",
        "& X_6 \\leq 800, & \\text{(Demand for Box 6)} \\\\\n",
        "& 0.15X_1 + 0.25X_2 + 0.35X_3 + 0.5X_4 + 0.6X_5 + 0.75X_6 = 1000, & \\text{(Total Space)}\n",
        "\\end{align*}**\n"
      ],
      "metadata": {
        "id": "0VeypF6HK0iQ"
      }
    },
    {
      "cell_type": "markdown",
      "source": [
        "# **Q.4**"
      ],
      "metadata": {
        "id": "pOrWWCfKLx6g"
      }
    },
    {
      "cell_type": "markdown",
      "source": [
        "### **The problem has been already formulated in question 3 and now we can give it to a solver and get the result.**"
      ],
      "metadata": {
        "id": "W8-CksUrL1Ye"
      }
    },
    {
      "cell_type": "code",
      "source": [
        "import pulp\n",
        "\n",
        "# Define the problem\n",
        "problem = pulp.LpProblem(\"Maximize_Box_Costs\", pulp.LpMaximize)\n",
        "\n",
        "# Decision Variables\n",
        "X = pulp.LpVariable.dicts(\"X\", range(1, 7), lowBound=0, cat='Continuous')\n",
        "Y = pulp.LpVariable.dicts(\"Y\", range(1, 7), cat='Binary')\n",
        "\n",
        "# Objective Function\n",
        "problem += ((300-0.15*100)*X[1] + (300-0.25*100)*X[2] + (350-0.35*100 )* X[3] + (500- 0.5 *100)*X[4] + (600-0.6*100)*X[5] + (800-0.75*100)*X[6]) -1500 * (Y[1] + Y[2] + Y[3] + Y[4] + Y[5] + Y[6]), \"Total Cost\"\n",
        "\n",
        "# Constraints\n",
        "problem += X[1] + X[2] + X[3] + X[4] + X[5] + X[6] <= 2280, \"Demand for Box 1\"\n",
        "problem += X[2] + X[3] + X[4] + X[5] + X[6] <=1980, \"Demand for Box 2\"\n",
        "problem += X[3] + X[4] + X[5] + X[6] <= 1530, \"Demand for Box 3\"\n",
        "problem += X[4] + X[5] + X[6] <= 1450, \"Demand for Box 4\"\n",
        "problem += X[5] + X[6] <= 950, \"Demand for Box 5\"\n",
        "problem += X[6] <= 800, \"Demand for Box 6\"\n",
        "\n",
        "problem += 0.15*X[1] + 0.25*X[2] + 0.35*X[3] + 0.5*X[4] + 0.6*X[5] + 0.75*X[6] <= 1000, \"Volume capacity\"\n",
        "\n",
        "# Linking X_i with Y_i\n",
        "M = 1000  # Large number for linking\n",
        "for i in range(1, 7):\n",
        "    problem += X[i] <= M * Y[i], f\"Linking_{i}\"\n",
        "\n",
        "# Solve the problem\n",
        "problem.solve()\n",
        "\n",
        "# Output the results\n",
        "for i in range(1, 7):\n",
        "    print(f\"X{i}: {X[i].varValue}, Y{i}: {Y[i].varValue}\")\n",
        "print(f\"Total Profit: {pulp.value(problem.objective)}\")"
      ],
      "metadata": {
        "id": "Q0ZIHb5XP600",
        "colab": {
          "base_uri": "https://localhost:8080/"
        },
        "outputId": "997b5bdc-25ac-4ee9-9ebb-69ed5f35abb0"
      },
      "execution_count": 7,
      "outputs": [
        {
          "output_type": "stream",
          "name": "stdout",
          "text": [
            "X1: 1000.0, Y1: 1.0\n",
            "X2: 0.0, Y2: 0.0\n",
            "X3: 0.0, Y3: 0.0\n",
            "X4: 380.0, Y4: 1.0\n",
            "X5: 100.0, Y5: 1.0\n",
            "X6: 800.0, Y6: 1.0\n",
            "Total Profit: 1084000.0\n"
          ]
        }
      ]
    }
  ]
}
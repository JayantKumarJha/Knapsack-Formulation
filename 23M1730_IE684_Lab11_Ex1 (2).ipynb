{
  "nbformat": 4,
  "nbformat_minor": 0,
  "metadata": {
    "colab": {
      "provenance": []
    },
    "kernelspec": {
      "name": "python3",
      "display_name": "Python 3"
    },
    "language_info": {
      "name": "python"
    }
  },
  "cells": [
    {
      "cell_type": "markdown",
      "source": [
        "**Exercise 1 (Lab 11)**"
      ],
      "metadata": {
        "id": "DV_Tb127fAFO"
      }
    },
    {
      "cell_type": "markdown",
      "source": [
        "**Jayant Kumar Jha(23M1730)**\n"
      ],
      "metadata": {
        "id": "y12Z47P4e1dV"
      }
    },
    {
      "cell_type": "markdown",
      "source": [
        "# **Q.a**"
      ],
      "metadata": {
        "id": "10OEU6oPPHAn"
      }
    },
    {
      "cell_type": "markdown",
      "source": [
        "The problem can be mathematically expressed as,\n",
        "\n",
        "\\begin{equation*}\n",
        "\\text{Maximize } \\sum_{i=1}^{n} v_i \\cdot x_i\n",
        "\\end{equation*}\n",
        "\n",
        "\\begin{align*}\n",
        "\\text{subject to } \\sum_{i=1}^{n} t_i \\cdot x_i &\\leq T \\\\\n",
        "x_i &\\in \\{0, 1\\} \\quad \\text{for } i = 1, 2, \\ldots, n\n",
        "\\end{align*}\n",
        "\n",
        "Here, $v_i$ is the value of the $i^{th} $ task and $t_i$ is the time associated to $i^{th}$ task. $T$ is the total time window.\n",
        "\n",
        "$x_i$ is the variable for doing the task $i$. X takes value 0 if task is not done and 1 if task is done.\n"
      ],
      "metadata": {
        "id": "i8CvhF3dWVDK"
      }
    },
    {
      "cell_type": "code",
      "execution_count": null,
      "metadata": {
        "colab": {
          "base_uri": "https://localhost:8080/"
        },
        "id": "dJ3XqK38KJdL",
        "outputId": "611bd9f9-ef12-420c-8589-b678929565d0"
      },
      "outputs": [
        {
          "output_type": "stream",
          "name": "stdout",
          "text": [
            "\u001b[2K     \u001b[90m━━━━━━━━━━━━━━━━━━━━━━━━━━━━━━━━━━━━━━━━\u001b[0m \u001b[32m12.7/12.7 MB\u001b[0m \u001b[31m39.0 MB/s\u001b[0m eta \u001b[36m0:00:00\u001b[0m\n",
            "\u001b[2K     \u001b[90m━━━━━━━━━━━━━━━━━━━━━━━━━━━━━━━━━━━━━━━━\u001b[0m \u001b[32m49.6/49.6 kB\u001b[0m \u001b[31m3.6 MB/s\u001b[0m eta \u001b[36m0:00:00\u001b[0m\n",
            "\u001b[?25h"
          ]
        }
      ],
      "source": [
        "# install pyomo library to collab enivronment\n",
        "!pip -q install pyomo\n",
        "# import pyomo and numpy library to collab session\n",
        "from pyomo.environ import *\n",
        "import numpy as np"
      ]
    },
    {
      "cell_type": "code",
      "source": [
        "# number of variables N(=9) and number of constraints M(=14)\n",
        "N, M = 20, 1\n",
        "c = np.array([10,25,33,53,15,70,52,45,32,30,20,5,17,50,37,18,71,35,60,90])\n",
        "b = np.array([40*60])\n",
        "IP_Model = ConcreteModel()\n",
        "\n",
        "#coefficient of constraints\n",
        "A = np.array([\n",
        "    [180, 180, 150, 150, 130, 210, 160, 175, 90, 120, 110,60, 145, 180, 120,120, 300, 300, 240, 500]])"
      ],
      "metadata": {
        "id": "eprmbYBqKpUD"
      },
      "execution_count": null,
      "outputs": []
    },
    {
      "cell_type": "code",
      "source": [
        "IP_Model.x = Var(np.arange(N), domain = Binary,bounds=(0,1))\n",
        "IP_Model.const = ConstraintList()\n",
        "IP_Model.constraints = ConstraintList()\n",
        "[IP_Model.constraints.add(sum(A[i][j]*IP_Model.x[j] for j in range(N)) <= b[i]) for i in range(M)]\n",
        "IP_Model.objective = Objective(expr = sum(c[j]*IP_Model.x [j] for j in range(N)), sense = maximize)\n",
        "IP_Model.pprint()"
      ],
      "metadata": {
        "colab": {
          "base_uri": "https://localhost:8080/"
        },
        "id": "jxM4Rfs_KsE4",
        "outputId": "a775fe63-4f5d-495f-bc8b-764b4219c6d8"
      },
      "execution_count": null,
      "outputs": [
        {
          "output_type": "stream",
          "name": "stdout",
          "text": [
            "1 Var Declarations\n",
            "    x : Size=20, Index={0, 1, 2, 3, 4, 5, 6, 7, 8, 9, 10, 11, 12, 13, 14, 15, 16, 17, 18, 19}\n",
            "        Key : Lower : Value : Upper : Fixed : Stale : Domain\n",
            "          0 :     0 :  None :     1 : False :  True : Binary\n",
            "          1 :     0 :  None :     1 : False :  True : Binary\n",
            "          2 :     0 :  None :     1 : False :  True : Binary\n",
            "          3 :     0 :  None :     1 : False :  True : Binary\n",
            "          4 :     0 :  None :     1 : False :  True : Binary\n",
            "          5 :     0 :  None :     1 : False :  True : Binary\n",
            "          6 :     0 :  None :     1 : False :  True : Binary\n",
            "          7 :     0 :  None :     1 : False :  True : Binary\n",
            "          8 :     0 :  None :     1 : False :  True : Binary\n",
            "          9 :     0 :  None :     1 : False :  True : Binary\n",
            "         10 :     0 :  None :     1 : False :  True : Binary\n",
            "         11 :     0 :  None :     1 : False :  True : Binary\n",
            "         12 :     0 :  None :     1 : False :  True : Binary\n",
            "         13 :     0 :  None :     1 : False :  True : Binary\n",
            "         14 :     0 :  None :     1 : False :  True : Binary\n",
            "         15 :     0 :  None :     1 : False :  True : Binary\n",
            "         16 :     0 :  None :     1 : False :  True : Binary\n",
            "         17 :     0 :  None :     1 : False :  True : Binary\n",
            "         18 :     0 :  None :     1 : False :  True : Binary\n",
            "         19 :     0 :  None :     1 : False :  True : Binary\n",
            "\n",
            "1 Objective Declarations\n",
            "    objective : Size=1, Index=None, Active=True\n",
            "        Key  : Active : Sense    : Expression\n",
            "        None :   True : maximize : 10*x[0] + 25*x[1] + 33*x[2] + 53*x[3] + 15*x[4] + 70*x[5] + 52*x[6] + 45*x[7] + 32*x[8] + 30*x[9] + 20*x[10] + 5*x[11] + 17*x[12] + 50*x[13] + 37*x[14] + 18*x[15] + 71*x[16] + 35*x[17] + 60*x[18] + 90*x[19]\n",
            "\n",
            "2 Constraint Declarations\n",
            "    const : Size=0, Index={}, Active=True\n",
            "        Key : Lower : Body : Upper : Active\n",
            "    constraints : Size=1, Index={1}, Active=True\n",
            "        Key : Lower : Body                                                                                                                                                                                                                              : Upper  : Active\n",
            "          1 :  -Inf : 180*x[0] + 180*x[1] + 150*x[2] + 150*x[3] + 130*x[4] + 210*x[5] + 160*x[6] + 175*x[7] + 90*x[8] + 120*x[9] + 110*x[10] + 60*x[11] + 145*x[12] + 180*x[13] + 120*x[14] + 120*x[15] + 300*x[16] + 300*x[17] + 240*x[18] + 500*x[19] : 2400.0 :   True\n",
            "\n",
            "4 Declarations: x const constraints objective\n"
          ]
        }
      ]
    },
    {
      "cell_type": "code",
      "source": [
        "# installing cbc solver to collab session\n",
        "!apt-get -q install -y -qq coinor-cbc\n",
        "\n",
        "# optCBC is will be used to solver above pyomo framework using\n",
        "\n",
        "optCBC = SolverFactory('cbc')\n",
        "resultCBC = optCBC.solve(IP_Model)\n",
        "\n",
        "\n",
        "# snip to code for a function to print optimal solution as an output\n",
        "def OptResults(Model):\n",
        "  # display solution\n",
        "  print('\\nObjective = ', Model.Objective())\n",
        "\n",
        "  print('\\nDecision Variables')\n",
        "  for i in np.arange(N):\n",
        "    print('x[',i,'] = ', Model.x[i].value)\n",
        "  print('\\nConstraints')\n",
        "  Model.constraints.display()"
      ],
      "metadata": {
        "colab": {
          "base_uri": "https://localhost:8080/"
        },
        "id": "FdEVadmYKy3s",
        "outputId": "5d403412-88ab-4a40-f907-dddb9095c049"
      },
      "execution_count": null,
      "outputs": [
        {
          "output_type": "stream",
          "name": "stdout",
          "text": [
            "Selecting previously unselected package coinor-libcoinutils3v5:amd64.\n",
            "(Reading database ... 121753 files and directories currently installed.)\n",
            "Preparing to unpack .../0-coinor-libcoinutils3v5_2.11.4+repack1-2_amd64.deb ...\n",
            "Unpacking coinor-libcoinutils3v5:amd64 (2.11.4+repack1-2) ...\n",
            "Selecting previously unselected package coinor-libosi1v5:amd64.\n",
            "Preparing to unpack .../1-coinor-libosi1v5_0.108.6+repack1-2_amd64.deb ...\n",
            "Unpacking coinor-libosi1v5:amd64 (0.108.6+repack1-2) ...\n",
            "Selecting previously unselected package coinor-libclp1.\n",
            "Preparing to unpack .../2-coinor-libclp1_1.17.5+repack1-1_amd64.deb ...\n",
            "Unpacking coinor-libclp1 (1.17.5+repack1-1) ...\n",
            "Selecting previously unselected package coinor-libcgl1:amd64.\n",
            "Preparing to unpack .../3-coinor-libcgl1_0.60.3+repack1-3_amd64.deb ...\n",
            "Unpacking coinor-libcgl1:amd64 (0.60.3+repack1-3) ...\n",
            "Selecting previously unselected package coinor-libcbc3:amd64.\n",
            "Preparing to unpack .../4-coinor-libcbc3_2.10.7+ds1-1_amd64.deb ...\n",
            "Unpacking coinor-libcbc3:amd64 (2.10.7+ds1-1) ...\n",
            "Selecting previously unselected package coinor-cbc.\n",
            "Preparing to unpack .../5-coinor-cbc_2.10.7+ds1-1_amd64.deb ...\n",
            "Unpacking coinor-cbc (2.10.7+ds1-1) ...\n",
            "Setting up coinor-libcoinutils3v5:amd64 (2.11.4+repack1-2) ...\n",
            "Setting up coinor-libosi1v5:amd64 (0.108.6+repack1-2) ...\n",
            "Setting up coinor-libclp1 (1.17.5+repack1-1) ...\n",
            "Setting up coinor-libcgl1:amd64 (0.60.3+repack1-3) ...\n",
            "Setting up coinor-libcbc3:amd64 (2.10.7+ds1-1) ...\n",
            "Setting up coinor-cbc (2.10.7+ds1-1) ...\n",
            "Processing triggers for man-db (2.10.2-1) ...\n",
            "Processing triggers for libc-bin (2.35-0ubuntu3.4) ...\n",
            "/sbin/ldconfig.real: /usr/local/lib/libtbbmalloc.so.2 is not a symbolic link\n",
            "\n",
            "/sbin/ldconfig.real: /usr/local/lib/libtbbmalloc_proxy.so.2 is not a symbolic link\n",
            "\n",
            "/sbin/ldconfig.real: /usr/local/lib/libtbbbind_2_0.so.3 is not a symbolic link\n",
            "\n",
            "/sbin/ldconfig.real: /usr/local/lib/libtbbbind_2_5.so.3 is not a symbolic link\n",
            "\n",
            "/sbin/ldconfig.real: /usr/local/lib/libtbb.so.12 is not a symbolic link\n",
            "\n",
            "/sbin/ldconfig.real: /usr/local/lib/libtbbbind.so.3 is not a symbolic link\n",
            "\n"
          ]
        }
      ]
    },
    {
      "cell_type": "code",
      "source": [
        "ILP_ModelSolution = OptResults(IP_Model)"
      ],
      "metadata": {
        "colab": {
          "base_uri": "https://localhost:8080/"
        },
        "id": "_FjCQWhiO0q-",
        "outputId": "3c01bb07-ea29-4808-e559-d45aad3049d6"
      },
      "execution_count": null,
      "outputs": [
        {
          "output_type": "stream",
          "name": "stdout",
          "text": [
            "\n",
            "Objective =  <pyomo.core.base.block._generic_component_decorator object at 0x7f5a1669b970>\n",
            "\n",
            "Decision Variables\n",
            "x[ 0 ] =  0.0\n",
            "x[ 1 ] =  0.0\n",
            "x[ 2 ] =  1.0\n",
            "x[ 3 ] =  1.0\n",
            "x[ 4 ] =  0.0\n",
            "x[ 5 ] =  1.0\n",
            "x[ 6 ] =  1.0\n",
            "x[ 7 ] =  1.0\n",
            "x[ 8 ] =  1.0\n",
            "x[ 9 ] =  1.0\n",
            "x[ 10 ] =  0.0\n",
            "x[ 11 ] =  0.0\n",
            "x[ 12 ] =  0.0\n",
            "x[ 13 ] =  1.0\n",
            "x[ 14 ] =  1.0\n",
            "x[ 15 ] =  0.0\n",
            "x[ 16 ] =  1.0\n",
            "x[ 17 ] =  0.0\n",
            "x[ 18 ] =  1.0\n",
            "x[ 19 ] =  1.0\n",
            "\n",
            "Constraints\n",
            "constraints : Size=1\n",
            "    Key : Lower : Body   : Upper\n",
            "      1 :  None : 2395.0 : 2400.0\n"
          ]
        }
      ]
    },
    {
      "cell_type": "code",
      "source": [
        "print(f'{IP_Model.objective()} is the maximum value of the tasks')"
      ],
      "metadata": {
        "colab": {
          "base_uri": "https://localhost:8080/"
        },
        "id": "CmSdvR6nO1aM",
        "outputId": "edeb0c63-7b0c-489d-bcb1-d9ca4fa7e55b"
      },
      "execution_count": null,
      "outputs": [
        {
          "output_type": "stream",
          "name": "stdout",
          "text": [
            "623.0 is the maximum value of the tasks\n"
          ]
        }
      ]
    },
    {
      "cell_type": "markdown",
      "source": [
        "So the preffered tasks are Task ( 3,  4, 6,  7,  8,  9,  10,  14,  15,  17,  19,  20"
      ],
      "metadata": {
        "id": "-8BrXKjaVnuD"
      }
    },
    {
      "cell_type": "markdown",
      "source": [
        "# **Q.b.**"
      ],
      "metadata": {
        "id": "mmBZOczIPEPT"
      }
    },
    {
      "cell_type": "markdown",
      "source": [
        "We are provided with N tasks, each having a specific value and duration. Additionally, a maximum time window (T) is set. The goal is to select tasks in a way that the total value is maximized within the given time frame.\n",
        "\n",
        "The strategy involves examining all possible task combinations, computing their cumulative time and value. Only those combinations whose total duration does not exceed T are considered. Among these, the combination with the highest total value is selected.\n",
        "\n",
        "**Optimal Substructure:** For each task, there are two possibilities to consider in creating an optimal selection:\n",
        "\n",
        "**Case 1:** The task is included in the optimal selection.\n",
        "**Case 2:** The task is excluded from the optimal selection.\n",
        "\n",
        "**Solution Steps:**\n",
        "\n",
        "**To maximize the value obtained from N tasks, we compare two scenarios:**\n",
        "\n",
        "**Case 1** (including the Nth task): This is the value of the Nth task combined with the maximum value achievable from the remaining N-1 tasks within the reduced time window (T - duration of the Nth task).\n",
        "\n",
        "**Case 2** (excluding the Nth task): This is the maximum value achievable from the N-1 tasks within the time window T.\n",
        "If the duration of the Nth task exceeds T, it cannot be included, making Case 2 the only viable option."
      ],
      "metadata": {
        "id": "D4mpFpxyPxZW"
      }
    },
    {
      "cell_type": "code",
      "source": [
        "def recursion(T, time, val, n):\n",
        "\n",
        "    # Base Case\n",
        "    if n == 0 or T == 0:\n",
        "        return 0\n",
        "\n",
        "    # If Time of the nth task is\n",
        "    # more than Time window T,\n",
        "    # then this task cannot be included\n",
        "    # in the optimal solution\n",
        "    if (time[n-1] > T):\n",
        "        return recursion(T, time, val, n-1)\n",
        "\n",
        "    # return the maximum of two cases:\n",
        "    # (1) nth task included\n",
        "    # (2) not included\n",
        "    else:\n",
        "        return max(\n",
        "            val[n-1] + recursion(\n",
        "                T-time[n-1], time, val, n-1),\n",
        "            recursion(T, time, val, n-1))\n",
        "\n",
        "# end of function recursion\n",
        "\n",
        "\n",
        "\n",
        "value = [10,25,33,53,15,70,52,45,32,30,20,5,17,50,37,18,71,35,60,90]\n",
        "times = [180, 180, 150, 150, 130, 210, 160, 175, 90, 120, 110,60, 145, 180, 120,120, 300, 300, 240, 500]\n",
        "T = 40*60\n",
        "n = len(value)\n",
        "print(recursion(T, times, value, n))\n"
      ],
      "metadata": {
        "colab": {
          "base_uri": "https://localhost:8080/"
        },
        "id": "feP9U4ZTPGAO",
        "outputId": "3a7d52e1-a6f6-40ff-dec9-5e5808178509"
      },
      "execution_count": null,
      "outputs": [
        {
          "output_type": "stream",
          "name": "stdout",
          "text": [
            "623\n"
          ]
        }
      ]
    },
    {
      "cell_type": "code",
      "source": [
        "def is_subset_sum_recursive(arr, n, target, subset=[]):\n",
        "    # Base Cases\n",
        "    if target == 0:\n",
        "        print(subset)\n",
        "        return True\n",
        "    if n == 0 and target != 0:\n",
        "        return False\n",
        "    # If last element is greater than target, ignore it\n",
        "    if arr[n - 1] > target:\n",
        "        return is_subset_sum_recursive(arr, n - 1, target, subset)\n",
        "\n",
        "    return (is_subset_sum_recursive(arr, n - 1, target, subset) or\n",
        "            is_subset_sum_recursive(arr, n - 1, target - arr[n - 1], subset + [arr[n - 1]]))"
      ],
      "metadata": {
        "id": "3p5lwpEYcp31"
      },
      "execution_count": null,
      "outputs": []
    },
    {
      "cell_type": "code",
      "source": [
        "array = [10,25,33,53,15,70,52,45,32,30,20,5,17,50,37,18,71,35,60,90]\n",
        "target = 623\n",
        "print(\"for set having the value of tasks {10,25,33,53,15,70,52,45,32,30,20,5,17,50,37,18,71,35,60,90}\\n\")\n",
        "result = is_subset_sum_recursive(array, len(array), target)\n",
        "print(result)"
      ],
      "metadata": {
        "colab": {
          "base_uri": "https://localhost:8080/"
        },
        "id": "roLH1tSecub0",
        "outputId": "23850f6a-7331-4e05-e629-3ba3e8789a24"
      },
      "execution_count": null,
      "outputs": [
        {
          "output_type": "stream",
          "name": "stdout",
          "text": [
            "for set having the value of tasks {10,25,33,53,15,70,52,45,32,30,20,5,17,50,37,18,71,35,60,90}\n",
            "\n",
            "[60, 71, 18, 37, 50, 17, 20, 30, 32, 45, 52, 70, 53, 33, 25, 10]\n",
            "True\n"
          ]
        }
      ]
    },
    {
      "cell_type": "code",
      "source": [
        "value_subset = [60, 71, 18, 37, 50, 17, 20, 30, 32, 45, 52, 70, 53, 33, 25, 10]\n",
        "print(\"The task selected are:\")\n",
        "for i in range(len(value_subset)):\n",
        "  if value_subset[i] in array:\n",
        "    print(\"Task\", array.index(value_subset[i])+1)"
      ],
      "metadata": {
        "colab": {
          "base_uri": "https://localhost:8080/"
        },
        "id": "Vzo6jgA9g7cV",
        "outputId": "a0317a90-ddce-4996-9237-cf28502a9b29"
      },
      "execution_count": null,
      "outputs": [
        {
          "output_type": "stream",
          "name": "stdout",
          "text": [
            "The task selected are:\n",
            "Task 19\n",
            "Task 17\n",
            "Task 16\n",
            "Task 15\n",
            "Task 14\n",
            "Task 13\n",
            "Task 11\n",
            "Task 10\n",
            "Task 9\n",
            "Task 8\n",
            "Task 7\n",
            "Task 6\n",
            "Task 4\n",
            "Task 3\n",
            "Task 2\n",
            "Task 1\n"
          ]
        }
      ]
    },
    {
      "cell_type": "markdown",
      "source": [
        "# **Q.c**"
      ],
      "metadata": {
        "id": "VupIC4ofkKuQ"
      }
    },
    {
      "cell_type": "code",
      "source": [
        "def dynamicProgramming(time, value, T, n):\n",
        "\n",
        "    # base conditions\n",
        "    if n == 0 or T == 0:\n",
        "        return 0\n",
        "    if t[n][T] != -1:\n",
        "        return t[n][T]\n",
        "\n",
        "    # choice diagram code\n",
        "    if time[n-1] <= T:\n",
        "        t[n][T] = max(\n",
        "            value[n-1] + dynamicProgramming(\n",
        "                time, value, T-time[n-1], n-1),\n",
        "            dynamicProgramming(time, value, T, n-1))\n",
        "        return t[n][T]\n",
        "    elif time[n-1] > T:\n",
        "        t[n][T] = dynamicProgramming(time, value, T, n-1)\n",
        "        return t[n][T]\n",
        "\n",
        "# Driver code\n",
        "\n",
        "value = [10,25,33,53,15,70,52,45,32,30,20,5,17,50,37,18,71,35,60,90]\n",
        "time = [180, 180, 150, 150, 130, 210, 160, 175, 90, 120, 110,60, 145, 180, 120,120, 300, 300, 240, 500]\n",
        "T = 40*60\n",
        "n = len(value )\n",
        "\n",
        "# We initialize the matrix with -1 at first.\n",
        "t = [[-1 for i in range(T + 1)] for j in range(n + 1)]\n",
        "print('The max value is:')\n",
        "print(dynamicProgramming(time, value , T, n))"
      ],
      "metadata": {
        "colab": {
          "base_uri": "https://localhost:8080/"
        },
        "id": "JE3YMdQAkM98",
        "outputId": "5a3ec659-be98-4223-cfca-c8329b7a5153"
      },
      "execution_count": null,
      "outputs": [
        {
          "output_type": "stream",
          "name": "stdout",
          "text": [
            "The max value is:\n",
            "623\n"
          ]
        }
      ]
    },
    {
      "cell_type": "markdown",
      "source": [
        "**Initial Conditions:** The algorithm initiates with two primary conditions. If the count of items (n) is reduced to 0 or if the knapsack's maximum capacity (T) is depleted, the highest achievable value defaults to 0.\n",
        "\n",
        "**Caching Strategy:** To enhance efficiency, the algorithm employs a caching technique, recording outcomes of smaller problems to prevent repeat computations. It verifies whether a solution has been previously calculated for the given set of items and knapsack capacity. If a solution exists, it retrieves the saved result without additional computation.\n",
        "\n",
        "**Decision Process:**\n",
        "\n",
        "The algorithm evaluates each item through a binary choice: either to incorporate the item into the knapsack or to leave it out.\n",
        "Should the item's weight not exceed the knapsack's available capacity (T), inclusion is an option. In such instances, the algorithm recursively processes the remaining items and available capacity post-inclusion, adding the item's value to the resultant value from the recursion.\n",
        "Conversely, if the item's weight surpasses the knapsack's residual capacity, inclusion is not feasible. The algorithm then proceeds to the subsequent item, excluding the current one.\n",
        "\n",
        "**Outcome:** Ultimately, the algorithm determines the maximum achievable value by exhaustively exploring all item and capacity combinations, leveraging cached results for efficiency, and delivers the optimal value attainable within the constraints of knapsack capacity.\n",
        "\n",
        "In summary, the algorithm systematically navigates through all item and capacity permutations, utilizes cached data to minimize repeat computations, and conclusively identifies the highest value attainable."
      ],
      "metadata": {
        "id": "IJ47LR_wQrYC"
      }
    },
    {
      "cell_type": "code",
      "source": [
        "array = [10,25,33,53,15,70,52,45,32,30,20,5,17,50,37,18,71,35,60,90]\n",
        "target = 623\n",
        "print(\"for set having the value of tasks {10,25,33,53,15,70,52,45,32,30,20,5,17,50,37,18,71,35,60,90}\\n\")\n",
        "result = is_subset_sum_recursive(array, len(array), target)\n",
        "# print(result)\n",
        "value_subset = [60, 71, 18, 37, 50, 17, 20, 30, 32, 45, 52, 70, 53, 33, 25, 10]\n",
        "print(\"The task selected are:\")\n",
        "for i in range(len(value_subset)):\n",
        "  if value_subset[i] in array:\n",
        "    print(\"Task\", array.index(value_subset[i])+1)\n"
      ],
      "metadata": {
        "colab": {
          "base_uri": "https://localhost:8080/"
        },
        "id": "GAcxLz_DmeZ-",
        "outputId": "14c59948-813b-46f3-b106-15992caeb813"
      },
      "execution_count": null,
      "outputs": [
        {
          "output_type": "stream",
          "name": "stdout",
          "text": [
            "for set having the value of tasks {10,25,33,53,15,70,52,45,32,30,20,5,17,50,37,18,71,35,60,90}\n",
            "\n",
            "[60, 71, 18, 37, 50, 17, 20, 30, 32, 45, 52, 70, 53, 33, 25, 10]\n",
            "The task selected are:\n",
            "Task 19\n",
            "Task 17\n",
            "Task 16\n",
            "Task 15\n",
            "Task 14\n",
            "Task 13\n",
            "Task 11\n",
            "Task 10\n",
            "Task 9\n",
            "Task 8\n",
            "Task 7\n",
            "Task 6\n",
            "Task 4\n",
            "Task 3\n",
            "Task 2\n",
            "Task 1\n"
          ]
        }
      ]
    },
    {
      "cell_type": "markdown",
      "source": [
        "# **Q2.**"
      ],
      "metadata": {
        "id": "bM3VC-44of27"
      }
    },
    {
      "cell_type": "code",
      "source": [
        "# Task data: (task number, task value, task time)\n",
        "tasks = [\n",
        "    (1, 10, 180), (2, 25, 180), (3, 33, 150), (4, 53, 150),\n",
        "    (5, 15, 130), (6, 70, 210), (7, 52, 160), (8, 45, 175),\n",
        "    (9, 32, 90), (10, 30, 120), (11, 20, 110), (12, 5, 60),\n",
        "    (13, 17, 145), (14, 50, 180), (15, 37, 120), (16, 18, 120),\n",
        "    (17, 71, 300), (18, 35, 300), (19, 60, 240), (20, 90, 500)\n",
        "]\n",
        "\n",
        "# Sort tasks by their task value in descending order\n",
        "sorted_tasks = sorted(tasks, key=lambda x: x[1], reverse=True)\n",
        "\n",
        "total_time = 0\n",
        "total_value = 0\n",
        "selected_tasks = []\n",
        "\n",
        "# Greedy selection of tasks\n",
        "for task in sorted_tasks:\n",
        "    if total_time + task[2] <= 2400:\n",
        "        total_time += task[2]\n",
        "        total_value += task[1]\n",
        "        selected_tasks.append(task[0])\n",
        "\n",
        "# Output total task value and sequence of tasks\n",
        "print(\"Total Task Value:\", total_value)\n",
        "print(\"Sequence of Tasks the manager takes:\", selected_tasks)\n"
      ],
      "metadata": {
        "colab": {
          "base_uri": "https://localhost:8080/"
        },
        "id": "z876rcw0Rsdj",
        "outputId": "c44aca26-088d-49a4-9fb9-fc40f60a9997"
      },
      "execution_count": null,
      "outputs": [
        {
          "output_type": "stream",
          "name": "stdout",
          "text": [
            "Total Task Value: 568\n",
            "Sequence of Tasks the manager takes: [20, 17, 6, 19, 4, 7, 14, 8, 15, 18, 12]\n"
          ]
        }
      ]
    },
    {
      "cell_type": "markdown",
      "source": [
        "Here we can observe that the optimal solution does not remain same. In this case it is 568 but previously it was 623."
      ],
      "metadata": {
        "id": "FyyJhdwCSJ81"
      }
    },
    {
      "cell_type": "markdown",
      "source": [
        "# **Q3.**"
      ],
      "metadata": {
        "id": "MOHIQTaYUqVx"
      }
    },
    {
      "cell_type": "code",
      "source": [
        "tasks = [\n",
        "    (1, 10, 180, 10/180), (2, 25, 180, 25/180), (3, 33, 150, 33/150), (4, 53, 150, 53/150),\n",
        "    (5, 15, 130, 15/130), (6, 70, 210, 70/210), (7, 52, 160, 52/160), (8, 45, 175, 45/175),\n",
        "    (9, 32, 90, 32/90), (10, 30, 120, 30/120), (11, 20, 110, 20/110), (12, 5, 60, 5/60),\n",
        "    (13, 17, 145, 17/145), (14, 50, 180, 50/180), (15, 37, 120, 37/120), (16, 18, 120, 18/120),\n",
        "    (17, 71, 300, 71/300), (18, 35, 300, 35/300), (19, 60, 240, 60/240), (20, 90, 500, 90/500)\n",
        "] #value by time ratio is also added in this"
      ],
      "metadata": {
        "id": "D_zwqPyiSljH"
      },
      "execution_count": null,
      "outputs": []
    },
    {
      "cell_type": "code",
      "source": [
        "# Sort tasks by their task value in descending order\n",
        "sorted_tasks = sorted(tasks, key=lambda x: x[3], reverse=True)\n",
        "\n",
        "total_time = 0\n",
        "total_value = 0\n",
        "selected_tasks = []\n",
        "\n",
        "# Greedy selection of tasks\n",
        "for task in sorted_tasks:\n",
        "    if total_time + task[2] <= 2400:\n",
        "        total_time += task[2]\n",
        "        total_value += task[1]\n",
        "        selected_tasks.append(task[0])\n",
        "\n",
        "# Output total task value and sequence of tasks\n",
        "print(\"Total Task Value:\", total_value)\n",
        "print(\"Sequence of Tasks the manager takes:\", selected_tasks)"
      ],
      "metadata": {
        "colab": {
          "base_uri": "https://localhost:8080/"
        },
        "id": "Vzebq-c4XNZ1",
        "outputId": "b994e3c3-ccd1-4fa3-b89a-ceb0c3226247"
      },
      "execution_count": null,
      "outputs": [
        {
          "output_type": "stream",
          "name": "stdout",
          "text": [
            "Total Task Value: 601\n",
            "Sequence of Tasks the manager takes: [9, 4, 6, 7, 15, 14, 8, 10, 19, 17, 3, 11, 16, 2, 12]\n"
          ]
        }
      ]
    },
    {
      "cell_type": "markdown",
      "source": [
        "Here we can observe that the optimal solution does not remain same. In this case it is 601 but previously it was 623 in $1^{st}$ question."
      ],
      "metadata": {
        "id": "vLLQqGZMY6d-"
      }
    },
    {
      "cell_type": "markdown",
      "source": [
        "# **Q4.**"
      ],
      "metadata": {
        "id": "qAc2fNyDPxr7"
      }
    },
    {
      "cell_type": "markdown",
      "source": [
        "# **a)**\n",
        "\n",
        "$K := \\{ x \\in \\{0, 1\\}^n : \\sum_{i=1}^{n} a_i x_i \\leq b \\}\n",
        "$\n",
        "\n",
        "$\n",
        "K_C := \\{ x \\in \\{0, 1\\}^n : \\sum_{i \\in C} x_i \\leq |C| - 1, \\text{ for every } C \\}\n",
        "$\n",
        "\n",
        "\n",
        "The statement asserts that each viable solution within $K$ can also be considered viable for $K_C$. Demonstrating this involves proving that for any viable solution $x$ belonging to $K$, we can identify a minimal cover $C$ where $x$ also fits within $K_C$.\n",
        "Here, $K$ denotes the set of solutions satisfying the condition that the total weighted sum of $a_i x_i$ is under a threshold $b$. Conversely, $K_C$ signifies the set of solutions where, for every minimal cover $C$, the quantity of chosen items doesn't surpass the size of $C$.\n",
        "To assert that $K$ is a subset of $K_C$, we must ensure that for each viable solution in $K$, a minimal cover $C$ can be found where the sum of chosen items is less than the count of $C$ by one. However, establishing this relationship is challenging because not every viable solution in $K$ may correspond to a minimal cover $C$ with $|C| - 1$ greater than the sum of chosen items.\n",
        "Thus, it cannot be conclusively stated that $K$ is a subset of $K_C$.\n",
        "    \n",
        "\n",
        "# **b)**\n",
        "\"$\\textbf{$K_C \\subseteq K$}$\"\n",
        "\n",
        "The statement proposes that each viable solution within $K_C$ can equally serve as a viable solution for $K$. To establish this claim, we must demonstrate that every viable solution $x$ found in $K_C$ aligns with a total weighted sum of $a_i x_i$ that remains below the threshold $b$.\n",
        "\n",
        "$K_C$ is defined as the set of solutions where, given any minimal cover $C$, the count of chosen items falls short of $|C| - 1$. Meanwhile, $K$ encompasses solutions that ensure the total weighted sum of $a_i x_i$ does not surpass $b$.\n",
        "The proposition that $K_C$ is included in $K$ is valid because any solution qualifying under $K_C$ inherently meets the criteria set by $K$. Specifically, if the count of items selected for every minimal cover $C$ is below $|C| - 1$, it implies that the aggregate weighted sum of these selected items will not breach the limit $b$.\n",
        "\n",
        "Hence, the relationship $K_C \\subseteq K$ is confirmed to be accurate."
      ],
      "metadata": {
        "id": "vMDVY0CNQFOJ"
      }
    }
  ]
}